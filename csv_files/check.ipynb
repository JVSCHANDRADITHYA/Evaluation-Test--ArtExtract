{
 "cells": [
  {
   "cell_type": "code",
   "execution_count": 1,
   "metadata": {},
   "outputs": [
    {
     "name": "stdout",
     "output_type": "stream",
     "text": [
      "Minimum of artist:  0\n",
      "Maximum of artist:  127\n",
      "Minimum of genre:  0\n",
      "Maximum of genre:  10\n",
      "Minimum of style:  0\n",
      "Maximum of style:  26\n"
     ]
    }
   ],
   "source": [
    "import pandas as pd\n",
    "import numpy as np\n",
    "import os\n",
    "import sys\n",
    "\n",
    "\n",
    "csv_path = r\"F:\\GSoc_2025\\Evaluation-Test--ArtExtract\\csv_files\\train_data.csv\"\n",
    "\n",
    "df = pd.read_csv(csv_path)\n",
    "\n",
    "artist = df['artist']\n",
    "genre = df['genre']\n",
    "style = df['style']\n",
    "\n",
    "#print minumum and maximum of all labels)\n",
    "print(\"Minimum of artist: \", artist.min())\n",
    "print(\"Maximum of artist: \", artist.max()) \n",
    "print(\"Minimum of genre: \", genre.min())\n",
    "print(\"Maximum of genre: \", genre.max())\n",
    "print(\"Minimum of style: \", style.min())\n",
    "print(\"Maximum of style: \", style.max())"
   ]
  }
 ],
 "metadata": {
  "kernelspec": {
   "display_name": "torch",
   "language": "python",
   "name": "python3"
  },
  "language_info": {
   "codemirror_mode": {
    "name": "ipython",
    "version": 3
   },
   "file_extension": ".py",
   "mimetype": "text/x-python",
   "name": "python",
   "nbconvert_exporter": "python",
   "pygments_lexer": "ipython3",
   "version": "3.11.10"
  }
 },
 "nbformat": 4,
 "nbformat_minor": 2
}
